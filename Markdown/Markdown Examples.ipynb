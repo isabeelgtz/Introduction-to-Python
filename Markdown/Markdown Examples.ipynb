{
 "cells": [
  {
   "cell_type": "markdown",
   "metadata": {},
   "source": [
    "Markdown es un lenguaje de marcado sencillo que sirve para agregar formato, vínculos e imágenes con facilidad al texto simple. Markdown está disponible en los siguientes lugares:"
   ]
  },
  {
   "cell_type": "markdown",
   "metadata": {},
   "source": [
    "Asi se escribe texto en **negrita**"
   ]
  },
  {
   "cell_type": "markdown",
   "metadata": {},
   "source": [
    "Asi se escribe texto en *cursiva*"
   ]
  },
  {
   "cell_type": "markdown",
   "metadata": {},
   "source": [
    "# Asi se escribe un encabezado\n",
    "## El encabezado puede cambiar de tamaño\n",
    "### con cada \"#\" que se agrega\n",
    "#### para obtener el tamaño deseado"
   ]
  },
  {
   "cell_type": "markdown",
   "metadata": {},
   "source": [
    "# Lista con viñetas\n",
    "* Viñeta 1(Siempre debe ir un espacio despues de cada asterisco)\n",
    "* Viñeta 2\n",
    "* Viñeta n"
   ]
  },
  {
   "cell_type": "markdown",
   "metadata": {},
   "source": [
    "# Listas enumeradas\n",
    "1. Step one\n",
    "2. Step two"
   ]
  },
  {
   "cell_type": "markdown",
   "metadata": {},
   "source": [
    "# Listas anidadas\n",
    "* Primer parte de la lista\n",
    "  * segunda parte de la lista (en cada nueva parte de la lista dejar espacio en cada asterisco)"
   ]
  },
  {
   "cell_type": "markdown",
   "metadata": {},
   "source": [
    "# Citar en bloques\n",
    "\n",
    "> Las citas deben comenzar con un espacio en blanco y terminar con un espacio en blanco\n",
    "\n",
    "> cada linea de la cita debe comenzar con \">\""
   ]
  },
  {
   "cell_type": "markdown",
   "metadata": {},
   "source": [
    "# Codigo en linea\n",
    "Este es un ejemplo de como colocar un \"codigo en linea\"\n",
    "\n",
    "el cual es mas notorio en un archivo .md"
   ]
  },
  {
   "cell_type": "markdown",
   "metadata": {},
   "source": [
    "# Bloques de codigo\n",
    "```\n",
    "Este es un ejemplo de como colocar un bloque de código.\n",
    "\n",
    "```"
   ]
  },
  {
   "cell_type": "markdown",
   "metadata": {},
   "source": [
    "# Linea de regla horizontal\n",
    "---"
   ]
  }
 ],
 "metadata": {
  "kernelspec": {
   "display_name": "Python 3",
   "language": "python",
   "name": "python3"
  },
  "language_info": {
   "codemirror_mode": {
    "name": "ipython",
    "version": 3
   },
   "file_extension": ".py",
   "mimetype": "text/x-python",
   "name": "python",
   "nbconvert_exporter": "python",
   "pygments_lexer": "ipython3",
   "version": "3.6.4"
  }
 },
 "nbformat": 4,
 "nbformat_minor": 2
}
